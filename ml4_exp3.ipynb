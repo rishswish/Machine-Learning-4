{
  "nbformat": 4,
  "nbformat_minor": 0,
  "metadata": {
    "colab": {
      "provenance": []
    },
    "kernelspec": {
      "name": "python3",
      "display_name": "Python 3"
    },
    "language_info": {
      "name": "python"
    }
  },
  "cells": [
    {
      "cell_type": "markdown",
      "source": [
        "* NAME: Rishabh Patil\n",
        "* SAP: 60009200056\n",
        "* BATCH: D12"
      ],
      "metadata": {
        "id": "6hlF7tg7TDCJ"
      }
    },
    {
      "cell_type": "code",
      "execution_count": null,
      "metadata": {
        "id": "gTbZ2XxDKMzo"
      },
      "outputs": [],
      "source": [
        "from functools import reduce\n",
        "from collections import defaultdict\n",
        "import numpy as np"
      ]
    },
    {
      "cell_type": "code",
      "source": [
        "def getHashFn(type):\n",
        "  if type==\"num\":\n",
        "    return lambda x: (x) % width, lambda x: (2*x+6) % width\n",
        "  else:\n",
        "    return lambda x: (reduce(lambda a, b: a+b, map(lambda y: ord(y), x))) % width, lambda x: (reduce(lambda a, b: a+b, map(lambda y: ord(y), x))+6) % width\n"
      ],
      "metadata": {
        "id": "OLq6or2XOhNR"
      },
      "execution_count": null,
      "outputs": []
    },
    {
      "cell_type": "code",
      "source": [
        "width = 30\n",
        "hashFn1, hashFn2 = getHashFn('num')\n",
        "\n",
        "elements_to_add = [10,1]\n",
        "elements_to_find = [10,15,7,11]"
      ],
      "metadata": {
        "id": "OKAw8qreKX9h"
      },
      "execution_count": null,
      "outputs": []
    },
    {
      "cell_type": "code",
      "source": [
        "filter = np.zeros((width), dtype=\"uint8\")"
      ],
      "metadata": {
        "id": "uIaX6bQMK4Ws"
      },
      "execution_count": null,
      "outputs": []
    },
    {
      "cell_type": "code",
      "source": [
        "for num in elements_to_add:\n",
        "  filter[hashFn1(num)] = 1\n",
        "  filter[hashFn2(num)] = 1\n",
        "\n",
        "print(filter)"
      ],
      "metadata": {
        "colab": {
          "base_uri": "https://localhost:8080/"
        },
        "id": "Q78YTqFDMhFM",
        "outputId": "bea9edbc-6da2-41d5-9616-f3843a61c86e"
      },
      "execution_count": null,
      "outputs": [
        {
          "output_type": "stream",
          "name": "stdout",
          "text": [
            "[0 1 0 0 0 0 0 0 1 0 1 0 0 0 0 0 0 0 0 0 0 0 0 0 0 0 1 0 0 0]\n"
          ]
        }
      ]
    },
    {
      "cell_type": "code",
      "source": [
        "for num in elements_to_find:\n",
        "  exists = filter[hashFn1(num)]*filter[hashFn2(num)]\n",
        "  if exists:\n",
        "    print(\"found {}\".format(num))\n",
        "  else:\n",
        "    print(\"not found {}\".format(num))"
      ],
      "metadata": {
        "colab": {
          "base_uri": "https://localhost:8080/"
        },
        "id": "7yUNWcNYMzmM",
        "outputId": "e9741a5a-1788-4bff-c32b-869959ba414a"
      },
      "execution_count": null,
      "outputs": [
        {
          "output_type": "stream",
          "name": "stdout",
          "text": [
            "found 10\n",
            "not found 15\n",
            "not found 7\n",
            "not found 11\n"
          ]
        }
      ]
    },
    {
      "cell_type": "code",
      "source": [
        "#"
      ],
      "metadata": {
        "id": "NHPuqtNZN-X3"
      },
      "execution_count": null,
      "outputs": []
    }
  ]
}