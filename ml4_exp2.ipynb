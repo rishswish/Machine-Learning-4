{
  "nbformat": 4,
  "nbformat_minor": 0,
  "metadata": {
    "colab": {
      "provenance": []
    },
    "kernelspec": {
      "name": "python3",
      "display_name": "Python 3"
    },
    "language_info": {
      "name": "python"
    }
  },
  "cells": [
    {
      "cell_type": "markdown",
      "source": [
        "* NAME: Rishabh Patil\n",
        "* SAP: 60009200056\n",
        "* BATCH: D12"
      ],
      "metadata": {
        "id": "cg4eS01jm8F0"
      }
    },
    {
      "cell_type": "code",
      "execution_count": null,
      "metadata": {
        "id": "fO6tnNi6G27o"
      },
      "outputs": [],
      "source": [
        "import numpy as np\n",
        "from functools import reduce"
      ]
    },
    {
      "cell_type": "code",
      "source": [
        "a = np.array([[1,1,3], [5,2,6], [2,3,4]])\n",
        "\n",
        "b = np.array([[1,1,3], [5,2,6], [-2,-1,-3]])"
      ],
      "metadata": {
        "id": "hAMk9vA1HBfs"
      },
      "execution_count": null,
      "outputs": []
    },
    {
      "cell_type": "code",
      "source": [
        "def mapper(mat1, mat2):\n",
        "  result = list()\n",
        "\n",
        "  for i, row in enumerate(mat1):\n",
        "    for j, item in enumerate(row):\n",
        "      result.append([(i, None), ('A', j, item)])\n",
        "\n",
        "  for i, row in enumerate(mat2.T):\n",
        "    for j, item in enumerate(row):\n",
        "      result.append([(None, i), ('B', j, item)])\n",
        "\n",
        "  return result\n"
      ],
      "metadata": {
        "id": "xytAp5SBHkkC"
      },
      "execution_count": null,
      "outputs": []
    },
    {
      "cell_type": "code",
      "source": [
        "def shuffler(mat1, mat2, maps_list):\n",
        "  result = dict()\n",
        "  for row in range(mat1.shape[0]):\n",
        "    for col in range(mat2.shape[1]):\n",
        "      result[(row, col)] = [item[1] for item in maps_list if (item[0][0]==row or item[0][1]==col)]\n",
        "  return result"
      ],
      "metadata": {
        "id": "PsG2dZnkJ377"
      },
      "execution_count": null,
      "outputs": []
    },
    {
      "cell_type": "code",
      "source": [
        "def reducer(mat1, mat2, shuffled_map):\n",
        "  result = np.zeros((mat1.shape[0],mat2.shape[1]))\n",
        "  for key, value in shuffled_map.items():\n",
        "    items_half_len = len(value) // 2\n",
        "    inter_value = map(lambda x,y: x[-1]*y[-1], value[:items_half_len], value[items_half_len:])\n",
        "    cell_result = reduce(lambda x, y: x+y, inter_value)\n",
        "    print(key, value)\n",
        "    result[key[0],key[1]] = cell_result\n",
        "  return result"
      ],
      "metadata": {
        "id": "rCSBpVhYLazb"
      },
      "execution_count": null,
      "outputs": []
    },
    {
      "cell_type": "code",
      "source": [
        "def map_reduce(mat1, mat2):\n",
        "  mapper_result = mapper(mat1, mat2)\n",
        "  print(\"\\nMapper result\")\n",
        "  print(*mapper_result, sep=\"\\n\")\n",
        "  shuffler_result = shuffler(mat1, mat2, mapper_result)\n",
        "  print(\"\\nShuffler result\")\n",
        "  # print(*shuffler_result, sep=\"\\n\")\n",
        "  reducer_result = reducer(mat1, mat2, shuffler_result)\n",
        "  print(\"\\nReducer result\")\n",
        "  print(*reducer_result, sep=\"\\n\")\n"
      ],
      "metadata": {
        "id": "x4IjLKo0H_iU"
      },
      "execution_count": null,
      "outputs": []
    },
    {
      "cell_type": "code",
      "source": [
        "map_reduce(a, b)"
      ],
      "metadata": {
        "colab": {
          "base_uri": "https://localhost:8080/"
        },
        "id": "gu9hRvYwKULD",
        "outputId": "e3cd549f-5e6e-426f-beb0-03abf35dc8db"
      },
      "execution_count": null,
      "outputs": [
        {
          "output_type": "stream",
          "name": "stdout",
          "text": [
            "\n",
            "Mapper result\n",
            "[(0, None), ('A', 0, 1)]\n",
            "[(0, None), ('A', 1, 1)]\n",
            "[(0, None), ('A', 2, 3)]\n",
            "[(1, None), ('A', 0, 5)]\n",
            "[(1, None), ('A', 1, 2)]\n",
            "[(1, None), ('A', 2, 6)]\n",
            "[(2, None), ('A', 0, 2)]\n",
            "[(2, None), ('A', 1, 3)]\n",
            "[(2, None), ('A', 2, 4)]\n",
            "[(None, 0), ('B', 0, 1)]\n",
            "[(None, 0), ('B', 1, 5)]\n",
            "[(None, 0), ('B', 2, -2)]\n",
            "[(None, 1), ('B', 0, 1)]\n",
            "[(None, 1), ('B', 1, 2)]\n",
            "[(None, 1), ('B', 2, -1)]\n",
            "[(None, 2), ('B', 0, 3)]\n",
            "[(None, 2), ('B', 1, 6)]\n",
            "[(None, 2), ('B', 2, -3)]\n",
            "\n",
            "Shuffler result\n",
            "(0, 0) [('A', 0, 1), ('A', 1, 1), ('A', 2, 3), ('B', 0, 1), ('B', 1, 5), ('B', 2, -2)]\n",
            "(0, 1) [('A', 0, 1), ('A', 1, 1), ('A', 2, 3), ('B', 0, 1), ('B', 1, 2), ('B', 2, -1)]\n",
            "(0, 2) [('A', 0, 1), ('A', 1, 1), ('A', 2, 3), ('B', 0, 3), ('B', 1, 6), ('B', 2, -3)]\n",
            "(1, 0) [('A', 0, 5), ('A', 1, 2), ('A', 2, 6), ('B', 0, 1), ('B', 1, 5), ('B', 2, -2)]\n",
            "(1, 1) [('A', 0, 5), ('A', 1, 2), ('A', 2, 6), ('B', 0, 1), ('B', 1, 2), ('B', 2, -1)]\n",
            "(1, 2) [('A', 0, 5), ('A', 1, 2), ('A', 2, 6), ('B', 0, 3), ('B', 1, 6), ('B', 2, -3)]\n",
            "(2, 0) [('A', 0, 2), ('A', 1, 3), ('A', 2, 4), ('B', 0, 1), ('B', 1, 5), ('B', 2, -2)]\n",
            "(2, 1) [('A', 0, 2), ('A', 1, 3), ('A', 2, 4), ('B', 0, 1), ('B', 1, 2), ('B', 2, -1)]\n",
            "(2, 2) [('A', 0, 2), ('A', 1, 3), ('A', 2, 4), ('B', 0, 3), ('B', 1, 6), ('B', 2, -3)]\n",
            "\n",
            "Reducer result\n",
            "[0. 0. 0.]\n",
            "[3. 3. 9.]\n",
            "[ 9.  4. 12.]\n"
          ]
        }
      ]
    },
    {
      "cell_type": "code",
      "source": [
        "np.matmul(a,b)"
      ],
      "metadata": {
        "colab": {
          "base_uri": "https://localhost:8080/"
        },
        "id": "18pT1z62N84Z",
        "outputId": "5dc13399-4ee1-481f-d599-d350e0da11d3"
      },
      "execution_count": null,
      "outputs": [
        {
          "output_type": "execute_result",
          "data": {
            "text/plain": [
              "array([[ 0,  0,  0],\n",
              "       [ 3,  3,  9],\n",
              "       [ 9,  4, 12]])"
            ]
          },
          "metadata": {},
          "execution_count": 27
        }
      ]
    }
  ]
}