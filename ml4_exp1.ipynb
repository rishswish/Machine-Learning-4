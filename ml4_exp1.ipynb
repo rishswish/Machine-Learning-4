{
  "nbformat": 4,
  "nbformat_minor": 0,
  "metadata": {
    "colab": {
      "provenance": []
    },
    "kernelspec": {
      "name": "python3",
      "display_name": "Python 3"
    },
    "language_info": {
      "name": "python"
    }
  },
  "cells": [
    {
      "cell_type": "markdown",
      "source": [
        "* NAME: Rishabh Patil\n",
        "* SAP: 60009200056\n",
        "* BATCH: D12"
      ],
      "metadata": {
        "id": "RfPcmxgzmXa5"
      }
    },
    {
      "cell_type": "code",
      "source": [
        "from collections import defaultdict\n",
        "from functools import reduce\n",
        "from random import random"
      ],
      "metadata": {
        "id": "v63opNKz_fu1"
      },
      "execution_count": null,
      "outputs": []
    },
    {
      "cell_type": "code",
      "execution_count": null,
      "metadata": {
        "id": "FPxjtLyo9duU"
      },
      "outputs": [],
      "source": [
        "text1 = \"hello world hi hello world hi hello world hi hello world hi hello world hi hello hello hello world\"\n",
        "text2 = \"hello this world of hello this world of hello this world of hello this world of hello this world of hello this world of world this this this of\"\n",
        "text3 = \"world this hi world this hi world this hi world this hi world this hi world this hi world this hi world world world hi hi\""
      ]
    },
    {
      "cell_type": "code",
      "source": [
        "def mapper(text):\n",
        "  word_count = defaultdict(lambda : 0)\n",
        "  words = text.lower().split(\" \")\n",
        "  for word in words:\n",
        "      word_count[word] += 1\n",
        "  return word_count"
      ],
      "metadata": {
        "id": "N63YsCr99_nF"
      },
      "execution_count": null,
      "outputs": []
    },
    {
      "cell_type": "code",
      "source": [
        "def shuffler(maps_list):\n",
        "  result = defaultdict(lambda : [])\n",
        "\n",
        "  for maps in maps_list:\n",
        "    for word in maps.keys():\n",
        "      result[word].append(maps[word])\n",
        "  return result"
      ],
      "metadata": {
        "id": "6swtfdQfAdq_"
      },
      "execution_count": null,
      "outputs": []
    },
    {
      "cell_type": "code",
      "source": [
        "def reducer(shuffled_map):\n",
        "  result = dict()\n",
        "  for key, value in shuffled_map.items():\n",
        "    result[key] = reduce(lambda a, b: a+b, value)\n",
        "  return result"
      ],
      "metadata": {
        "id": "Th0S-k7JCyB-"
      },
      "execution_count": null,
      "outputs": []
    },
    {
      "cell_type": "code",
      "source": [
        "def map_reduce(texts):\n",
        "  mapper_outputs = []\n",
        "\n",
        "  for text in texts:\n",
        "    mapper_output = mapper(text)\n",
        "    mapper_outputs.append(mapper_output)\n",
        "    print(\"Input: {}\".format(text))\n",
        "    print(\"Mapper output: {}\\n\".format(dict(mapper_output)))\n",
        "\n",
        "  shuffler_output = shuffler(mapper_outputs)\n",
        "  print(\"Shuffler output: {}\\n\".format(dict(shuffler_output)))\n",
        "  reducer_output = reducer(shuffler_output)\n",
        "  print(\"Reducer output: {}\\n\".format(dict(reducer_output)))"
      ],
      "metadata": {
        "id": "vwNq_yO-Ae3N"
      },
      "execution_count": null,
      "outputs": []
    },
    {
      "cell_type": "code",
      "source": [
        "all_texts = [text1, text2, text3]\n",
        "map_reduce(all_texts)"
      ],
      "metadata": {
        "colab": {
          "base_uri": "https://localhost:8080/"
        },
        "id": "vi4naVvsFrDB",
        "outputId": "a04d8fb9-9105-4103-f4eb-7b64eecef182"
      },
      "execution_count": null,
      "outputs": [
        {
          "output_type": "stream",
          "name": "stdout",
          "text": [
            "Input: hello world hi hello world hi hello world hi hello world hi hello world hi hello hello hello world\n",
            "Mapper output: {'hello': 8, 'world': 6, 'hi': 5}\n",
            "\n",
            "Input: hello this world of hello this world of hello this world of hello this world of hello this world of hello this world of world this this this of\n",
            "Mapper output: {'hello': 6, 'this': 9, 'world': 7, 'of': 7}\n",
            "\n",
            "Input: world this hi world this hi world this hi world this hi world this hi world this hi world this hi world world world hi hi\n",
            "Mapper output: {'world': 10, 'this': 7, 'hi': 9}\n",
            "\n",
            "Shuffler output: {'hello': [8, 6], 'world': [6, 7, 10], 'hi': [5, 9], 'this': [9, 7], 'of': [7]}\n",
            "\n",
            "Reducer output: {'hello': 14, 'world': 23, 'hi': 14, 'this': 16, 'of': 7}\n",
            "\n"
          ]
        }
      ]
    },
    {
      "cell_type": "code",
      "source": [],
      "metadata": {
        "id": "WDZVr5PkD84N"
      },
      "execution_count": null,
      "outputs": []
    }
  ]
}