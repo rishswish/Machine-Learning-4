{
  "nbformat": 4,
  "nbformat_minor": 0,
  "metadata": {
    "colab": {
      "provenance": []
    },
    "kernelspec": {
      "name": "python3",
      "display_name": "Python 3"
    },
    "language_info": {
      "name": "python"
    }
  },
  "cells": [
    {
      "cell_type": "markdown",
      "source": [
        "\n",
        "\n",
        "*   Name: Rishabh Patil\n",
        "*   SAP : 60009200056\n",
        "*   Batch : D12\n",
        "\n"
      ],
      "metadata": {
        "id": "WrrWB1BYeibu"
      }
    },
    {
      "cell_type": "code",
      "execution_count": null,
      "metadata": {
        "id": "NpENC4n6Hr1_"
      },
      "outputs": [],
      "source": [
        "import numpy as np\n",
        "def matrixmul(A,B):\n",
        "  result = np.dot(A,B)\n",
        "  return result\n",
        "def pagerank(G):\n",
        "  sm=[]\n",
        "  for i in range(0,len(G)):\n",
        "    temp=0\n",
        "    for j in range(0,len(G)):\n",
        "      temp+=G[j][i]\n",
        "    sm.append(temp)\n",
        "  print(sm)\n",
        "  for i in range(0,len(G)):\n",
        "    for j in range(0,len(G)):\n",
        "      G[j][i]/=sm[i]\n",
        "  print(\"Graph after\",G)\n",
        "  r=[]\n",
        "  temp=len(G)\n",
        "  for i in range(0,len(G)):\n",
        "    r.append(1/temp)\n",
        "  print(\"R0:\",r)\n",
        "  k=2\n",
        "  while k > 0:\n",
        "    ri=matrixmul(G,r)\n",
        "    r=ri\n",
        "    k-=1\n",
        "  print(\"Final Vector\",r)\n",
        "  idx,mx=-1,0\n",
        "  for i in range(0,len(r)):\n",
        "    if(r[i]>mx):\n",
        "      idx=i\n",
        "      mx=r[i]\n",
        "  print(\"NODE WITH MAX PAGE RANK: \",chr(idx+ord('A')))\n",
        "  return r"
      ]
    },
    {
      "cell_type": "code",
      "source": [
        "G=[[0,1,1,0,0,0],[1,0,0,1,1,1],[1,0,0,0,0,1],[0,0,0,0,0,0],[0,0,0,0,0,0],[0,0,0,0,0,0]]"
      ],
      "metadata": {
        "id": "CQP4AcZxLtBl"
      },
      "execution_count": null,
      "outputs": []
    },
    {
      "cell_type": "code",
      "source": [
        "r=pagerank(G)"
      ],
      "metadata": {
        "colab": {
          "base_uri": "https://localhost:8080/"
        },
        "id": "NGsWDklTNN2e",
        "outputId": "43808b4e-7a4e-4fd4-f983-c3335e0d7f9c"
      },
      "execution_count": null,
      "outputs": [
        {
          "output_type": "stream",
          "name": "stdout",
          "text": [
            "[2, 1, 1, 1, 1, 2]\n",
            "Graph after [[0.0, 1.0, 1.0, 0.0, 0.0, 0.0], [0.5, 0.0, 0.0, 1.0, 1.0, 0.5], [0.5, 0.0, 0.0, 0.0, 0.0, 0.5], [0.0, 0.0, 0.0, 0.0, 0.0, 0.0], [0.0, 0.0, 0.0, 0.0, 0.0, 0.0], [0.0, 0.0, 0.0, 0.0, 0.0, 0.0]]\n",
            "R0: [0.16666666666666666, 0.16666666666666666, 0.16666666666666666, 0.16666666666666666, 0.16666666666666666, 0.16666666666666666]\n",
            "Final Vector [0.66666667 0.16666667 0.16666667 0.         0.         0.        ]\n",
            "NODE WITH MAX PAGE RANK:  A\n"
          ]
        }
      ]
    },
    {
      "cell_type": "markdown",
      "source": [
        "#### Modified Version"
      ],
      "metadata": {
        "id": "HfrfpsuSeduA"
      }
    },
    {
      "cell_type": "code",
      "source": [],
      "metadata": {
        "id": "3Xip2dowegof"
      },
      "execution_count": null,
      "outputs": []
    }
  ]
}