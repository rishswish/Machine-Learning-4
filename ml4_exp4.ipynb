{
  "nbformat": 4,
  "nbformat_minor": 0,
  "metadata": {
    "colab": {
      "provenance": []
    },
    "kernelspec": {
      "name": "python3",
      "display_name": "Python 3"
    },
    "language_info": {
      "name": "python"
    }
  },
  "cells": [
    {
      "cell_type": "markdown",
      "source": [
        "* NAME: Rishabh Patil\n",
        "* SAP: 60009200056\n",
        "* BATCH: D12"
      ],
      "metadata": {
        "id": "FCsFlyvvzKXu"
      }
    },
    {
      "cell_type": "code",
      "execution_count": null,
      "metadata": {
        "id": "JfWnDUJuJWu_"
      },
      "outputs": [],
      "source": [
        "rlist = [1,2,3,4,5,6,7,8,9,10]"
      ]
    },
    {
      "cell_type": "code",
      "source": [
        "import random\n",
        "rlist = [random.randint(1, 100) for _ in range(100)]"
      ],
      "metadata": {
        "id": "lzRqhEehQDOd"
      },
      "execution_count": null,
      "outputs": []
    },
    {
      "cell_type": "code",
      "source": [
        "len(rlist)"
      ],
      "metadata": {
        "colab": {
          "base_uri": "https://localhost:8080/"
        },
        "id": "RWL1XWhoTBSv",
        "outputId": "36ca7caa-7891-4aff-c93a-f0f58654c83b"
      },
      "execution_count": null,
      "outputs": [
        {
          "output_type": "execute_result",
          "data": {
            "text/plain": [
              "100"
            ]
          },
          "metadata": {},
          "execution_count": 59
        }
      ]
    },
    {
      "cell_type": "code",
      "source": [
        "maxi = 0"
      ],
      "metadata": {
        "id": "qKGGFykuJ2FD"
      },
      "execution_count": null,
      "outputs": []
    },
    {
      "cell_type": "code",
      "source": [
        "for i in range(len(rlist)):\n",
        "  val = bin((rlist[i])%(len(rlist)+1))[2:]\n",
        "  sum=0\n",
        "  for j in range(len(val)-1, 0, -1):\n",
        "    if(val[j]=='0'):\n",
        "      sum+=1\n",
        "    else:\n",
        "      break\n",
        "  if(sum>maxi):\n",
        "    maxi = sum"
      ],
      "metadata": {
        "id": "suQtN07PJ4Y8"
      },
      "execution_count": null,
      "outputs": []
    },
    {
      "cell_type": "code",
      "source": [
        "print(\"Distinct elemtns:\", 2**maxi)"
      ],
      "metadata": {
        "colab": {
          "base_uri": "https://localhost:8080/"
        },
        "id": "hYrwXf6LKSXw",
        "outputId": "2922ba18-69a1-41ee-90ea-01b935604e79"
      },
      "execution_count": null,
      "outputs": [
        {
          "output_type": "stream",
          "name": "stdout",
          "text": [
            "Distinct elemtns: 64\n"
          ]
        }
      ]
    },
    {
      "cell_type": "code",
      "source": [],
      "metadata": {
        "id": "ICixdeygKV2X"
      },
      "execution_count": null,
      "outputs": []
    }
  ]
}